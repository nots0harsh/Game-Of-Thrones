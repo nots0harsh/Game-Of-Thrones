{
 "cells": [
  {
   "cell_type": "code",
   "execution_count": 1,
   "id": "12976cc4",
   "metadata": {},
   "outputs": [],
   "source": [
    "from kaggle.api.kaggle_api_extended import KaggleApi"
   ]
  },
  {
   "cell_type": "code",
   "execution_count": 2,
   "id": "b5960814",
   "metadata": {},
   "outputs": [],
   "source": [
    "api= KaggleApi()"
   ]
  },
  {
   "cell_type": "code",
   "execution_count": 3,
   "id": "663052c1",
   "metadata": {},
   "outputs": [],
   "source": [
    "api.authenticate()"
   ]
  },
  {
   "cell_type": "code",
   "execution_count": 16,
   "id": "aabd6c46",
   "metadata": {},
   "outputs": [
    {
     "data": {
      "text/plain": [
       "[{'id': 420465,\n",
       "  'ref': 'datasets/albenft/game-of-thrones-script-all-seasons',\n",
       "  'subtitle': 'Script from Every Season of Game of Thrones Extracted from Genius.com',\n",
       "  'creatorName': 'Alben Tumanggor',\n",
       "  'creatorUrl': 'albenft',\n",
       "  'totalBytes': 707406,\n",
       "  'url': 'https://www.kaggle.com/datasets/albenft/game-of-thrones-script-all-seasons',\n",
       "  'lastUpdated': '2019-11-19T14:09:59.097Z',\n",
       "  'downloadCount': 1304,\n",
       "  'isPrivate': False,\n",
       "  'isFeatured': False,\n",
       "  'licenseName': 'CC0: Public Domain',\n",
       "  'description': None,\n",
       "  'ownerName': 'Alben Tumanggor',\n",
       "  'ownerRef': 'albenft',\n",
       "  'kernelCount': 8,\n",
       "  'title': 'Game of Thrones Script All Seasons',\n",
       "  'topicCount': 0,\n",
       "  'viewCount': 19337,\n",
       "  'voteCount': 37,\n",
       "  'currentVersionNumber': 1,\n",
       "  'usabilityRating': 1.0,\n",
       "  'tags': [{'ref': 'text data',\n",
       "    'name': 'text data',\n",
       "    'description': None,\n",
       "    'fullPath': 'data type > text data',\n",
       "    'competitionCount': 43,\n",
       "    'datasetCount': 2566,\n",
       "    'scriptCount': 2577,\n",
       "    'totalCount': 5186},\n",
       "   {'ref': 'nlp',\n",
       "    'name': 'nlp',\n",
       "    'description': 'Natural Language Processing gives a computer program the ability to extract meaning human language. Applications include sentiment analysis, translation, and speech recognition.',\n",
       "    'fullPath': 'analysis > nlp',\n",
       "    'competitionCount': 10,\n",
       "    'datasetCount': 2006,\n",
       "    'scriptCount': 5665,\n",
       "    'totalCount': 7681},\n",
       "   {'ref': 'arts and entertainment',\n",
       "    'name': 'arts and entertainment',\n",
       "    'description': \"Activities that holds the attention and interest of an audience, or gives pleasure and delight. It can be an idea or a task, but is more likely to be one of the activities or events that have developed over thousands of years specifically for the purpose of keeping an audience's attention.\",\n",
       "    'fullPath': 'subject > arts and entertainment',\n",
       "    'competitionCount': 0,\n",
       "    'datasetCount': 19307,\n",
       "    'scriptCount': 23190,\n",
       "    'totalCount': 42497},\n",
       "   {'ref': 'business',\n",
       "    'name': 'business',\n",
       "    'description': 'Businesses are organizational entities that drive economic activity. Explore the inner workings of things like HR practices, product sales, and customer happiness in these competitions, kernels, and datasets.',\n",
       "    'fullPath': 'subject > people and society > business',\n",
       "    'competitionCount': 3,\n",
       "    'datasetCount': 29759,\n",
       "    'scriptCount': 25662,\n",
       "    'totalCount': 55424}],\n",
       "  'files': [],\n",
       "  'versions': []}]"
      ]
     },
     "execution_count": 16,
     "metadata": {},
     "output_type": "execute_result"
    }
   ],
   "source": [
    "api.datasets_list(search=\"Game of Thrones Script All Seasons\")"
   ]
  },
  {
   "cell_type": "code",
   "execution_count": 30,
   "id": "e583abdf",
   "metadata": {},
   "outputs": [],
   "source": [
    "api.dataset_download_files(\"albenft/game-of-thrones-script-all-seasons\",path=\".\")"
   ]
  },
  {
   "cell_type": "code",
   "execution_count": 1,
   "id": "0f53fe23",
   "metadata": {},
   "outputs": [],
   "source": [
    "from zipfile import ZipFile"
   ]
  },
  {
   "cell_type": "code",
   "execution_count": 6,
   "id": "cfbe9345",
   "metadata": {},
   "outputs": [
    {
     "name": "stdout",
     "output_type": "stream",
     "text": [
      "File Name                                             Modified             Size\n",
      "Game_of_Thrones_Script.csv                     2019-11-19 14:10:00      2934546\n"
     ]
    }
   ],
   "source": [
    "with ZipFile(\"game-of-thrones-script-all-seasons.zip\",'r') as zip:\n",
    "    zip.printdir()\n",
    "    zip.extractall()"
   ]
  },
  {
   "cell_type": "code",
   "execution_count": 47,
   "id": "56710d63",
   "metadata": {},
   "outputs": [],
   "source": [
    "# Observing the first few records\n",
    "import pandas as pd\n",
    "\n",
    "GOT_Script=pd.read_csv(\"Game_of_Thrones_Script.csv\")"
   ]
  },
  {
   "cell_type": "code",
   "execution_count": 48,
   "id": "af4695dd",
   "metadata": {},
   "outputs": [
    {
     "data": {
      "text/html": [
       "<div>\n",
       "<style scoped>\n",
       "    .dataframe tbody tr th:only-of-type {\n",
       "        vertical-align: middle;\n",
       "    }\n",
       "\n",
       "    .dataframe tbody tr th {\n",
       "        vertical-align: top;\n",
       "    }\n",
       "\n",
       "    .dataframe thead th {\n",
       "        text-align: right;\n",
       "    }\n",
       "</style>\n",
       "<table border=\"1\" class=\"dataframe\">\n",
       "  <thead>\n",
       "    <tr style=\"text-align: right;\">\n",
       "      <th></th>\n",
       "      <th>Release Date</th>\n",
       "      <th>Season</th>\n",
       "      <th>Episode</th>\n",
       "      <th>Episode Title</th>\n",
       "      <th>Name</th>\n",
       "      <th>Sentence</th>\n",
       "    </tr>\n",
       "  </thead>\n",
       "  <tbody>\n",
       "    <tr>\n",
       "      <th>0</th>\n",
       "      <td>2011-04-17</td>\n",
       "      <td>Season 1</td>\n",
       "      <td>Episode 1</td>\n",
       "      <td>Winter is Coming</td>\n",
       "      <td>waymar royce</td>\n",
       "      <td>What do you expect? They're savages. One lot s...</td>\n",
       "    </tr>\n",
       "    <tr>\n",
       "      <th>1</th>\n",
       "      <td>2011-04-17</td>\n",
       "      <td>Season 1</td>\n",
       "      <td>Episode 1</td>\n",
       "      <td>Winter is Coming</td>\n",
       "      <td>will</td>\n",
       "      <td>I've never seen wildlings do a thing like this...</td>\n",
       "    </tr>\n",
       "    <tr>\n",
       "      <th>2</th>\n",
       "      <td>2011-04-17</td>\n",
       "      <td>Season 1</td>\n",
       "      <td>Episode 1</td>\n",
       "      <td>Winter is Coming</td>\n",
       "      <td>waymar royce</td>\n",
       "      <td>How close did you get?</td>\n",
       "    </tr>\n",
       "    <tr>\n",
       "      <th>3</th>\n",
       "      <td>2011-04-17</td>\n",
       "      <td>Season 1</td>\n",
       "      <td>Episode 1</td>\n",
       "      <td>Winter is Coming</td>\n",
       "      <td>will</td>\n",
       "      <td>Close as any man would.</td>\n",
       "    </tr>\n",
       "    <tr>\n",
       "      <th>4</th>\n",
       "      <td>2011-04-17</td>\n",
       "      <td>Season 1</td>\n",
       "      <td>Episode 1</td>\n",
       "      <td>Winter is Coming</td>\n",
       "      <td>gared</td>\n",
       "      <td>We should head back to the wall.</td>\n",
       "    </tr>\n",
       "  </tbody>\n",
       "</table>\n",
       "</div>"
      ],
      "text/plain": [
       "  Release Date    Season    Episode     Episode Title          Name  \\\n",
       "0   2011-04-17  Season 1  Episode 1  Winter is Coming  waymar royce   \n",
       "1   2011-04-17  Season 1  Episode 1  Winter is Coming          will   \n",
       "2   2011-04-17  Season 1  Episode 1  Winter is Coming  waymar royce   \n",
       "3   2011-04-17  Season 1  Episode 1  Winter is Coming          will   \n",
       "4   2011-04-17  Season 1  Episode 1  Winter is Coming         gared   \n",
       "\n",
       "                                            Sentence  \n",
       "0  What do you expect? They're savages. One lot s...  \n",
       "1  I've never seen wildlings do a thing like this...  \n",
       "2                             How close did you get?  \n",
       "3                            Close as any man would.  \n",
       "4                   We should head back to the wall.  "
      ]
     },
     "execution_count": 48,
     "metadata": {},
     "output_type": "execute_result"
    }
   ],
   "source": [
    "GOT_Script.head()"
   ]
  },
  {
   "cell_type": "code",
   "execution_count": 58,
   "id": "b22e1ce9",
   "metadata": {},
   "outputs": [],
   "source": [
    "# Convert data types to appropriate types\n",
    "#GOT_Script[\"Release Date\"]=pd.to_datetime(GOT_Script[\"Release Date\"])\n",
    "# Convert to uppercase for Name\n",
    "GOT_Script[\"Name\"]=GOT_Script[\"Name\"].str.title()"
   ]
  },
  {
   "cell_type": "code",
   "execution_count": 60,
   "id": "96776865",
   "metadata": {},
   "outputs": [
    {
     "data": {
      "text/html": [
       "<div>\n",
       "<style scoped>\n",
       "    .dataframe tbody tr th:only-of-type {\n",
       "        vertical-align: middle;\n",
       "    }\n",
       "\n",
       "    .dataframe tbody tr th {\n",
       "        vertical-align: top;\n",
       "    }\n",
       "\n",
       "    .dataframe thead th {\n",
       "        text-align: right;\n",
       "    }\n",
       "</style>\n",
       "<table border=\"1\" class=\"dataframe\">\n",
       "  <thead>\n",
       "    <tr style=\"text-align: right;\">\n",
       "      <th></th>\n",
       "      <th>Release Date</th>\n",
       "      <th>Season</th>\n",
       "      <th>Episode</th>\n",
       "      <th>Episode Title</th>\n",
       "      <th>Name</th>\n",
       "      <th>Sentence</th>\n",
       "    </tr>\n",
       "  </thead>\n",
       "  <tbody>\n",
       "    <tr>\n",
       "      <th>0</th>\n",
       "      <td>2011-04-17</td>\n",
       "      <td>Season 1</td>\n",
       "      <td>Episode 1</td>\n",
       "      <td>Winter is Coming</td>\n",
       "      <td>Waymar Royce</td>\n",
       "      <td>What do you expect? They're savages. One lot s...</td>\n",
       "    </tr>\n",
       "    <tr>\n",
       "      <th>1</th>\n",
       "      <td>2011-04-17</td>\n",
       "      <td>Season 1</td>\n",
       "      <td>Episode 1</td>\n",
       "      <td>Winter is Coming</td>\n",
       "      <td>Will</td>\n",
       "      <td>I've never seen wildlings do a thing like this...</td>\n",
       "    </tr>\n",
       "    <tr>\n",
       "      <th>2</th>\n",
       "      <td>2011-04-17</td>\n",
       "      <td>Season 1</td>\n",
       "      <td>Episode 1</td>\n",
       "      <td>Winter is Coming</td>\n",
       "      <td>Waymar Royce</td>\n",
       "      <td>How close did you get?</td>\n",
       "    </tr>\n",
       "    <tr>\n",
       "      <th>3</th>\n",
       "      <td>2011-04-17</td>\n",
       "      <td>Season 1</td>\n",
       "      <td>Episode 1</td>\n",
       "      <td>Winter is Coming</td>\n",
       "      <td>Will</td>\n",
       "      <td>Close as any man would.</td>\n",
       "    </tr>\n",
       "    <tr>\n",
       "      <th>4</th>\n",
       "      <td>2011-04-17</td>\n",
       "      <td>Season 1</td>\n",
       "      <td>Episode 1</td>\n",
       "      <td>Winter is Coming</td>\n",
       "      <td>Gared</td>\n",
       "      <td>We should head back to the wall.</td>\n",
       "    </tr>\n",
       "  </tbody>\n",
       "</table>\n",
       "</div>"
      ],
      "text/plain": [
       "  Release Date    Season    Episode     Episode Title          Name  \\\n",
       "0   2011-04-17  Season 1  Episode 1  Winter is Coming  Waymar Royce   \n",
       "1   2011-04-17  Season 1  Episode 1  Winter is Coming          Will   \n",
       "2   2011-04-17  Season 1  Episode 1  Winter is Coming  Waymar Royce   \n",
       "3   2011-04-17  Season 1  Episode 1  Winter is Coming          Will   \n",
       "4   2011-04-17  Season 1  Episode 1  Winter is Coming         Gared   \n",
       "\n",
       "                                            Sentence  \n",
       "0  What do you expect? They're savages. One lot s...  \n",
       "1  I've never seen wildlings do a thing like this...  \n",
       "2                             How close did you get?  \n",
       "3                            Close as any man would.  \n",
       "4                   We should head back to the wall.  "
      ]
     },
     "execution_count": 60,
     "metadata": {},
     "output_type": "execute_result"
    }
   ],
   "source": [
    "GOT_Script.head()"
   ]
  },
  {
   "cell_type": "code",
   "execution_count": 59,
   "id": "66275df3",
   "metadata": {},
   "outputs": [
    {
     "data": {
      "text/plain": [
       "Release Date     datetime64[ns]\n",
       "Season                   object\n",
       "Episode                  object\n",
       "Episode Title            object\n",
       "Name                     object\n",
       "Sentence                 object\n",
       "dtype: object"
      ]
     },
     "execution_count": 59,
     "metadata": {},
     "output_type": "execute_result"
    }
   ],
   "source": [
    "GOT_Script.dtypes"
   ]
  },
  {
   "cell_type": "code",
   "execution_count": 46,
   "id": "e138685e",
   "metadata": {},
   "outputs": [
    {
     "data": {
      "text/plain": [
       "<bound method NDFrame.describe of 0        0        0        0        2011-04-17\\n1      ...\n",
       "1        0        0        0        2011-04-17\\n1      ...\n",
       "2        0        0        0        2011-04-17\\n1      ...\n",
       "3        0        0        0        2011-04-17\\n1      ...\n",
       "4        0        0        0        2011-04-17\\n1      ...\n",
       "                               ...                        \n",
       "23906    0        0        0        2011-04-17\\n1      ...\n",
       "23907    0        0        0        2011-04-17\\n1      ...\n",
       "23908    0        0        0        2011-04-17\\n1      ...\n",
       "23909    0        0        0        2011-04-17\\n1      ...\n",
       "23910    0        0        0        2011-04-17\\n1      ...\n",
       "Name: Release Date, Length: 23911, dtype: object>"
      ]
     },
     "execution_count": 46,
     "metadata": {},
     "output_type": "execute_result"
    }
   ],
   "source": [
    "GOT_Script[\"Release Date\"].describe"
   ]
  },
  {
   "cell_type": "code",
   "execution_count": 26,
   "id": "4fcd6a3d",
   "metadata": {},
   "outputs": [
    {
     "ename": "TypeError",
     "evalue": "unsupported operand type(s) for &: 'list' and 'list'",
     "output_type": "error",
     "traceback": [
      "\u001b[1;31m---------------------------------------------------------------------------\u001b[0m",
      "\u001b[1;31mTypeError\u001b[0m                                 Traceback (most recent call last)",
      "\u001b[1;32m~\\AppData\\Local\\Temp/ipykernel_7996/3452566347.py\u001b[0m in \u001b[0;36m<module>\u001b[1;34m\u001b[0m\n\u001b[1;32m----> 1\u001b[1;33m \u001b[0mGOT_Script\u001b[0m\u001b[1;33m(\u001b[0m\u001b[1;33m[\u001b[0m\u001b[0mGOT_Script\u001b[0m\u001b[1;33m[\u001b[0m\u001b[1;34m\"Season\"\u001b[0m\u001b[1;33m]\u001b[0m\u001b[1;33m==\u001b[0m\u001b[1;34m\"Season 1\"\u001b[0m\u001b[1;33m]\u001b[0m\u001b[1;33m&\u001b[0m\u001b[1;33m[\u001b[0m\u001b[0mGOT_Script\u001b[0m\u001b[1;33m[\u001b[0m\u001b[1;34m\"Episode\"\u001b[0m\u001b[1;33m]\u001b[0m\u001b[1;33m==\u001b[0m\u001b[1;34m\"Episode 1\"\u001b[0m\u001b[1;33m]\u001b[0m\u001b[1;33m)\u001b[0m\u001b[1;33m\u001b[0m\u001b[1;33m\u001b[0m\u001b[0m\n\u001b[0m",
      "\u001b[1;31mTypeError\u001b[0m: unsupported operand type(s) for &: 'list' and 'list'"
     ]
    }
   ],
   "source": [
    "GOT_Script([GOT_Script[\"Season\"]==\"Season 1\"]&[GOT_Script[\"Episode\"]==\"Episode 1\"])"
   ]
  },
  {
   "cell_type": "code",
   "execution_count": null,
   "id": "abea2254",
   "metadata": {},
   "outputs": [],
   "source": []
  },
  {
   "cell_type": "code",
   "execution_count": null,
   "id": "8d3c640f",
   "metadata": {},
   "outputs": [],
   "source": []
  }
 ],
 "metadata": {
  "kernelspec": {
   "display_name": "Python 3 (ipykernel)",
   "language": "python",
   "name": "python3"
  },
  "language_info": {
   "codemirror_mode": {
    "name": "ipython",
    "version": 3
   },
   "file_extension": ".py",
   "mimetype": "text/x-python",
   "name": "python",
   "nbconvert_exporter": "python",
   "pygments_lexer": "ipython3",
   "version": "3.9.7"
  }
 },
 "nbformat": 4,
 "nbformat_minor": 5
}
